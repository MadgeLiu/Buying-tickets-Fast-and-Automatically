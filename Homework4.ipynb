{
  "nbformat": 4,
  "nbformat_minor": 0,
  "metadata": {
    "kernelspec": {
      "name": "python3",
      "display_name": "Python 3"
    },
    "language_info": {
      "codemirror_mode": {
        "name": "ipython",
        "version": 3
      },
      "file_extension": ".py",
      "mimetype": "text/x-python",
      "name": "python",
      "nbconvert_exporter": "python",
      "pygments_lexer": "ipython3",
      "version": "3.7.3"
    },
    "colab": {
      "name": "Homework4.ipynb",
      "provenance": [],
      "private_outputs": true,
      "collapsed_sections": [],
      "include_colab_link": true
    },
    "accelerator": "GPU"
  },
  "cells": [
    {
      "cell_type": "markdown",
      "metadata": {
        "id": "view-in-github",
        "colab_type": "text"
      },
      "source": [
        "<a href=\"https://colab.research.google.com/github/MidgeLiu/Buying-tickets-Fast-and-Automatically/blob/master/Homework4.ipynb\" target=\"_parent\"><img src=\"https://colab.research.google.com/assets/colab-badge.svg\" alt=\"Open In Colab\"/></a>"
      ]
    },
    {
      "cell_type": "markdown",
      "metadata": {
        "id": "hJPcK1mKpZfF",
        "colab_type": "text"
      },
      "source": [
        "<h1><center> Homework 4 <center></h1>"
      ]
    },
    {
      "cell_type": "markdown",
      "metadata": {
        "id": "bvkT7izVpZfH",
        "colab_type": "text"
      },
      "source": [
        "## Deadline: 11/01/2019 Friday 5pm ET "
      ]
    },
    {
      "cell_type": "markdown",
      "metadata": {
        "id": "5djc8OWNpZfI",
        "colab_type": "text"
      },
      "source": [
        "### Review\n",
        "\n",
        "Review sections 8.6, 9.6 in [Dive into Deep Learning book](https://en.d2l.ai/d2l-en.pdf)."
      ]
    },
    {
      "cell_type": "markdown",
      "metadata": {
        "id": "c0BPKuYWpZfJ",
        "colab_type": "text"
      },
      "source": [
        "### Writing (50 points)"
      ]
    },
    {
      "cell_type": "markdown",
      "metadata": {
        "id": "T_oelst4pZfL",
        "colab_type": "text"
      },
      "source": [
        "1. Please read two papers below. Choose one of them and write a 1 page summary in latex format. You can find the template latex file in the latex folder. Make sure to use neurips2018.tex and submit both the tex and pdf files.\n",
        "\n",
        "* ResNet: https://arxiv.org/pdf/1512.03385.pdf  \n",
        "* Batch Normalization: https://arxiv.org/pdf/1502.03167.pdf\n",
        "\n",
        "You can use Texmaker (https://www.xm1math.net/texmaker/) to edit .tex files."
      ]
    },
    {
      "cell_type": "markdown",
      "metadata": {
        "id": "8EvohyNppZfM",
        "colab_type": "text"
      },
      "source": [
        "### Coding Questions [8.6, 9.6 in the book]\n",
        "\n",
        "This time we want to use AWS GPU to run LeNet and ResNet18 models. Training Deep learning models is very time-consuming in CPUs. Therefore, deep learning practitioners use GPUs almost all the time. For detailed information about how to use AWS GPU and open ipython notebook in remote GPU, follow the steps in \"Step-by-step guide to run template in AWS GPU\" in main repostory."
      ]
    },
    {
      "cell_type": "code",
      "metadata": {
        "id": "g2i3lI5urbFB",
        "colab_type": "code",
        "colab": {}
      },
      "source": [
        "pip install d2l"
      ],
      "execution_count": 0,
      "outputs": []
    },
    {
      "cell_type": "code",
      "metadata": {
        "id": "y-tCmdrKrlXz",
        "colab_type": "code",
        "colab": {}
      },
      "source": [
        "pip install mxnet"
      ],
      "execution_count": 0,
      "outputs": []
    },
    {
      "cell_type": "code",
      "metadata": {
        "id": "N_QGnqL1pZfM",
        "colab_type": "code",
        "colab": {}
      },
      "source": [
        "# import packages \n",
        "\n",
        "from google.colab import files\n",
        "src = list(files.upload().values())[0]\n",
        "open('untils.py','wb').write(src)\n",
        "import torch\n",
        "from torch import nn, optim\n",
        "import torch.nn.functional as F\n",
        "import utils\n",
        "from torchvision.models.resnet import ResNet, BasicBlock"
      ],
      "execution_count": 0,
      "outputs": []
    },
    {
      "cell_type": "code",
      "metadata": {
        "id": "fMr64-kjpv4i",
        "colab_type": "code",
        "colab": {}
      },
      "source": [
        ""
      ],
      "execution_count": 0,
      "outputs": []
    },
    {
      "cell_type": "markdown",
      "metadata": {
        "id": "bzgOWB9DpZfP",
        "colab_type": "text"
      },
      "source": [
        "## The Model\n",
        "\n",
        "### LeNet\n",
        "LeNet-5 is a convolutional network designed for handwritten and machine-printed character recognition.\n",
        "You can find more detailed information here: http://yann.lecun.com/exdb/lenet/"
      ]
    },
    {
      "cell_type": "markdown",
      "metadata": {
        "id": "ASNoHOi5pZfQ",
        "colab_type": "text"
      },
      "source": [
        "To compare the results with previously achieved with vanilla softmax regression, we continue to use the Fashion-MNIST image classification dataset. The input size of LeNet-5 is 32*32, so we may need to resize the original shape."
      ]
    },
    {
      "cell_type": "code",
      "metadata": {
        "id": "QYHypZEppZfR",
        "colab_type": "code",
        "colab": {}
      },
      "source": [
        "batch_size = 256\n",
        "train_iter, test_iter = utils.load_data_fashion_mnist(batch_size, resize=32)"
      ],
      "execution_count": 0,
      "outputs": []
    },
    {
      "cell_type": "code",
      "metadata": {
        "id": "CdBrB_QzpZfT",
        "colab_type": "code",
        "colab": {}
      },
      "source": [
        "train_iter"
      ],
      "execution_count": 0,
      "outputs": []
    },
    {
      "cell_type": "markdown",
      "metadata": {
        "id": "3IFNfOtWpZfW",
        "colab_type": "text"
      },
      "source": [
        "#### Define the Model (10 points)\n",
        "\n",
        "##### Structure of LeNet-5:  \n",
        "32×32 input image >  \n",
        "Six 28×28 feature maps convolutional layer (5×5 size) >  \n",
        "Average Pooling layers (2×2 size) >  \n",
        "Sixteen 10×10 feature maps convolutional layer (5×5 size) >  \n",
        "Average Pooling layers (2×2 size) >  \n",
        "Fully connected to 120 neurons >  \n",
        "Fully connected to 84 neurons >  \n",
        "Fully connected to 10 outputs  "
      ]
    },
    {
      "cell_type": "code",
      "metadata": {
        "id": "EzGRsPlVpZfX",
        "colab_type": "code",
        "colab": {}
      },
      "source": [
        "class LeNet5(nn.Module): \n",
        "    def __init__(self):\n",
        "        super(LeNet5, self).__init__()\n",
        "        self.conv1 = nn.Conv2d(in_channels = 1, out_channels = 6, kernel_size = 5)\n",
        "        self.relu1 = nn.ReLU()\n",
        "        self.ave_pool1 = nn.AvgPool2d(kernel_size = 2, stride = 2)\n",
        "        self.conv2 = nn.Conv2d(in_channels = 6, out_channels = 16, kernel_size = 5)\n",
        "        self.relu2 = nn.ReLU()\n",
        "        self.ave_pool2 = nn.AvgPool2d(kernel_size = 2, stride = 2)\n",
        "        self.linear1 = nn.Linear(16 * 5 * 5, 120)\n",
        "        self.relu3 = nn.ReLU()\n",
        "        self.linear2 = nn.Linear(120, 84)\n",
        "        self.relu4 = nn.ReLU()\n",
        "        self.linear3 = nn.Linear(84, 10)\n",
        "    def forward(self, x):\n",
        "        output1 = self.ave_pool1(self.relu1(self.conv1(x)))\n",
        "        output2 = self.ave_pool2(self.relu2(self.conv2(output1)))\n",
        "        output3 = output2.view(-1, self.num_flat_features(output2))\n",
        "        output4 = self.relu3(self.linear1(output3))\n",
        "        output5 = self.relu4(self.linear2(output4))\n",
        "        output6 = self.linear3(output5)\n",
        "        return output6\n",
        "    def num_flat_features(self, x):\n",
        "        size = x.size()[1:]\n",
        "        num_featurs = 1\n",
        "        for s in size:\n",
        "            num_featurs *= s\n",
        "        return num_featurs\n",
        "\n"
      ],
      "execution_count": 0,
      "outputs": []
    },
    {
      "cell_type": "markdown",
      "metadata": {
        "id": "LJhpK7d6pZfa",
        "colab_type": "text"
      },
      "source": [
        "#### Copy the network to GPU\n",
        "We want to do forward propagation and backward propagation in GPU rather than CPU, so we move the mode to GPU."
      ]
    },
    {
      "cell_type": "code",
      "metadata": {
        "id": "cPWAXq2EpZfa",
        "colab_type": "code",
        "colab": {}
      },
      "source": [
        "device = torch.device(\"cuda\")\n",
        "net = LeNet5().to(device)"
      ],
      "execution_count": 0,
      "outputs": []
    },
    {
      "cell_type": "markdown",
      "metadata": {
        "id": "QtLCGDOHpZfc",
        "colab_type": "text"
      },
      "source": [
        "#### See if your model works by invoking train and predict (10 points)"
      ]
    },
    {
      "cell_type": "code",
      "metadata": {
        "id": "Ke1kDaUHpZfc",
        "colab_type": "code",
        "colab": {}
      },
      "source": [
        "num_epochs, lr = 10, 0.5\n",
        "optimizer = optim.SGD(net.parameters(), lr=lr)\n",
        "loss = nn.CrossEntropyLoss()\n",
        "\n",
        "\n",
        "utils.train(net, train_iter, test_iter, loss, num_epochs, optimizer,device)"
      ],
      "execution_count": 0,
      "outputs": []
    },
    {
      "cell_type": "code",
      "metadata": {
        "id": "KeZ9p3_OpZfe",
        "colab_type": "code",
        "colab": {}
      },
      "source": [
        "utils.predict(net, test_iter,device, model='lenet')"
      ],
      "execution_count": 0,
      "outputs": []
    },
    {
      "cell_type": "markdown",
      "metadata": {
        "id": "TLvHNJqWpZfg",
        "colab_type": "text"
      },
      "source": [
        "### ResNet\n",
        "\n",
        "#### Define the Model (20 points)\n",
        "\n",
        "##### Structure of ResNet:  \n",
        "Resnet18 Architecture\n",
        "![title](img/ResNet-18-Architecture.png)  \n",
        "\n",
        "We want to do forward propagation and backward propagation in GPU rather than CPU, so we move the mode to GPU.\n",
        "You can use the resnet18 model that pytorch provides or you can build your own resnet18 model.  \n",
        "We need to consider two things here:\n",
        "1. The input channel of Resnet18 is 3, while what we have is 1.\n",
        "2. The output size of Resnet18 is 1000, while what we want is 10."
      ]
    },
    {
      "cell_type": "code",
      "metadata": {
        "id": "APjefRZepZfh",
        "colab_type": "code",
        "colab": {}
      },
      "source": [
        "import math\n",
        "class ResNet(nn.Module):\n",
        "\n",
        "    def __init__(self, block, layers, num_classes=10):\n",
        "        self.inplanes = 64\n",
        "        super(ResNet, self).__init__()\n",
        "        self.conv1 = nn.Conv2d(1, 64, kernel_size=7, stride=2, padding=3,\n",
        "                               bias=False)\n",
        "        self.bn1 = nn.BatchNorm2d(64)\n",
        "        self.relu = nn.ReLU(inplace=True)\n",
        "        self.maxpool = nn.MaxPool2d(kernel_size=3, stride=2, padding=1)\n",
        "        self.layer1 = self._make_layer(block, 64, layers[0])\n",
        "        self.layer2 = self._make_layer(block, 128, layers[1], stride=2)\n",
        "        self.layer3 = self._make_layer(block, 256, layers[2], stride=2)\n",
        "        self.layer4 = self._make_layer(block, 512, layers[3], stride=2)\n",
        "        self.avgpool = nn.AvgPool2d(7, stride=1)\n",
        "        self.fc = nn.Linear(512 * block.expansion, num_classes)\n",
        "\n",
        "        for m in self.modules():\n",
        "            if isinstance(m, nn.Conv2d):\n",
        "                n = m.kernel_size[0] * m.kernel_size[1] * m.out_channels\n",
        "                m.weight.data.normal_(0, math.sqrt(2. / n))\n",
        "            elif isinstance(m, nn.BatchNorm2d):\n",
        "                m.weight.data.fill_(1)\n",
        "                m.bias.data.zero_()\n",
        "\n",
        "    def _make_layer(self, block, planes, blocks, stride=1):\n",
        "        downsample = None\n",
        "        if stride != 1 or self.inplanes != planes * block.expansion:\n",
        "            downsample = nn.Sequential(\n",
        "                nn.Conv2d(self.inplanes, planes * block.expansion,\n",
        "                          kernel_size=1, stride=stride, bias=False),\n",
        "                nn.BatchNorm2d(planes * block.expansion),\n",
        "            )\n",
        "\n",
        "        layers = []\n",
        "        layers.append(block(self.inplanes, planes, stride, downsample))\n",
        "        self.inplanes = planes * block.expansion\n",
        "        for i in range(1, blocks):\n",
        "            layers.append(block(self.inplanes, planes))\n",
        "\n",
        "        return nn.Sequential(*layers)\n",
        "\n",
        "    def forward(self, x):\n",
        "        x = self.conv1(x)\n",
        "        x = self.bn1(x)\n",
        "        x = self.relu(x)\n",
        "        x = self.maxpool(x)\n",
        "\n",
        "        x = self.layer1(x)\n",
        "        x = self.layer2(x)\n",
        "        x = self.layer3(x)\n",
        "        x = self.layer4(x)\n",
        "\n",
        "        x = self.avgpool(x)\n",
        "        x = x.view(x.size(0), -1)\n",
        "        x = self.fc(x)\n",
        "\n",
        "        return x"
      ],
      "execution_count": 0,
      "outputs": []
    },
    {
      "cell_type": "code",
      "metadata": {
        "id": "OZOtdMg2yuuO",
        "colab_type": "code",
        "colab": {}
      },
      "source": [
        "def fashion_MNIST_resnet():\n",
        "    model = ResNet(BasicBlock, [2, 2, 2, 2] )\n",
        "    return model"
      ],
      "execution_count": 0,
      "outputs": []
    },
    {
      "cell_type": "code",
      "metadata": {
        "id": "A_8Hb-QgpZfj",
        "colab_type": "code",
        "colab": {}
      },
      "source": [
        "device = torch.device('cuda')\n",
        "net = fashion_MNIST_resnet().to(device)"
      ],
      "execution_count": 0,
      "outputs": []
    },
    {
      "cell_type": "markdown",
      "metadata": {
        "id": "ZjQyy98qpZfk",
        "colab_type": "text"
      },
      "source": [
        "#### Initialize the model parameters \n",
        "The input size of LeNet-5 is 224 x 224, so we may need to resize the shape of data to 224 x 224. We have done that in load function."
      ]
    },
    {
      "cell_type": "code",
      "metadata": {
        "id": "pkqdm2xUpZfk",
        "colab_type": "code",
        "colab": {}
      },
      "source": [
        "batch_size = 256\n",
        "train_iter, test_iter = utils.load_data_fashion_mnist_resnet(batch_size)"
      ],
      "execution_count": 0,
      "outputs": []
    },
    {
      "cell_type": "markdown",
      "metadata": {
        "id": "JPJbBiJWpZfl",
        "colab_type": "text"
      },
      "source": [
        "#### See if your model works by invoking train and predict (10 points)"
      ]
    },
    {
      "cell_type": "code",
      "metadata": {
        "id": "iNsKCYJmpZfm",
        "colab_type": "code",
        "colab": {}
      },
      "source": [
        "num_epochs, lr = 10, 0.5\n",
        "optimizer = optim.SGD(net.parameters(), lr=lr)\n",
        "loss = nn.CrossEntropyLoss()\n",
        "\n",
        "utils.train(net, train_iter, test_iter, loss, num_epochs, optimizer, device)"
      ],
      "execution_count": 0,
      "outputs": []
    },
    {
      "cell_type": "code",
      "metadata": {
        "id": "7uohdYGbpZfn",
        "colab_type": "code",
        "colab": {}
      },
      "source": [
        "utils.predict(net, test_iter, device, model='resnet')"
      ],
      "execution_count": 0,
      "outputs": []
    },
    {
      "cell_type": "code",
      "metadata": {
        "id": "uwJv-C43pZfo",
        "colab_type": "code",
        "colab": {}
      },
      "source": [
        ""
      ],
      "execution_count": 0,
      "outputs": []
    }
  ]
}